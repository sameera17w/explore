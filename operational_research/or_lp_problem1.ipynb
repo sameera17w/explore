{
  "nbformat": 4,
  "nbformat_minor": 0,
  "metadata": {
    "colab": {
      "name": "or_questions.ipynb",
      "provenance": []
    },
    "kernelspec": {
      "name": "python3",
      "display_name": "Python 3"
    }
  },
  "cells": [
    {
      "cell_type": "markdown",
      "metadata": {
        "id": "8wzJI9uLarl7",
        "colab_type": "text"
      },
      "source": [
        "I am using ortools by Google Developers for the LP problem."
      ]
    },
    {
      "cell_type": "code",
      "metadata": {
        "id": "TR6kkQKjTCcc",
        "colab_type": "code",
        "outputId": "3aeec31a-fa38-467b-d4ed-96dfdc918d17",
        "colab": {
          "base_uri": "https://localhost:8080/",
          "height": 323
        }
      },
      "source": [
        "!pip install ortools"
      ],
      "execution_count": 2,
      "outputs": [
        {
          "output_type": "stream",
          "text": [
            "Collecting ortools\n",
            "\u001b[?25l  Downloading https://files.pythonhosted.org/packages/1c/d5/c4382df6b6b978971f11287552f5c0acc54ea7bf8ce70a9c77d8a06531b2/ortools-7.6.7691-cp36-cp36m-manylinux1_x86_64.whl (28.9MB)\n",
            "\u001b[K     |████████████████████████████████| 28.9MB 1.3MB/s \n",
            "\u001b[?25hCollecting protobuf>=3.11.2\n",
            "\u001b[?25l  Downloading https://files.pythonhosted.org/packages/28/05/9867ef8eafd12265267bee138fa2c46ebf34a276ea4cbe184cba4c606e8b/protobuf-3.12.2-cp36-cp36m-manylinux1_x86_64.whl (1.3MB)\n",
            "\u001b[K     |████████████████████████████████| 1.3MB 50.7MB/s \n",
            "\u001b[?25hRequirement already satisfied: six>=1.10 in /usr/local/lib/python3.6/dist-packages (from ortools) (1.12.0)\n",
            "Requirement already satisfied: setuptools in /usr/local/lib/python3.6/dist-packages (from protobuf>=3.11.2->ortools) (46.4.0)\n",
            "Installing collected packages: protobuf, ortools\n",
            "  Found existing installation: protobuf 3.10.0\n",
            "    Uninstalling protobuf-3.10.0:\n",
            "      Successfully uninstalled protobuf-3.10.0\n",
            "Successfully installed ortools-7.6.7691 protobuf-3.12.2\n"
          ],
          "name": "stdout"
        },
        {
          "output_type": "display_data",
          "data": {
            "application/vnd.colab-display-data+json": {
              "pip_warning": {
                "packages": [
                  "google"
                ]
              }
            }
          },
          "metadata": {
            "tags": []
          }
        }
      ]
    },
    {
      "cell_type": "markdown",
      "metadata": {
        "id": "mBxA-xzNazIS",
        "colab_type": "text"
      },
      "source": [
        "I have to import the pywraplp from linear_solver which containts multiple LP solvers. I am also adding the design for ease of understanding."
      ]
    },
    {
      "cell_type": "code",
      "metadata": {
        "id": "wY8hwXj4RyJ0",
        "colab_type": "code",
        "colab": {}
      },
      "source": [
        "from ortools.linear_solver import pywraplp as lp\n",
        "\n",
        "'''\n",
        "Design:\n",
        "Following variables should be decision variables:\n",
        "medium1: (,5] Ad placement in an entertainment magazine feature pages\n",
        "medium2: [0,) A box ad in a sunday magazine\n",
        "medium3: [0,) Classified ads\n",
        "\n",
        "Following should be constraints:\n",
        "constraint1: Total advertising budget should be <= $400,000\n",
        "constraint2: Total professional services budget should be <= $100,000\n",
        "\n",
        "Following should be the objective function:\n",
        "objective function: max{130k*medium1 + 60k*medium2 + 50k*medium3}\n",
        "'''\n",
        "\n",
        "# I am naming the solve as \"or_lp_script\". I have selected GLOP_LINEAR_PROGRAMMING as the LP algorithm\n",
        "solver = lp.Solver('or_lp_script', lp.Solver.GLOP_LINEAR_PROGRAMMING)"
      ],
      "execution_count": 0,
      "outputs": []
    },
    {
      "cell_type": "markdown",
      "metadata": {
        "id": "hg4mGlyDbE3s",
        "colab_type": "text"
      },
      "source": [
        "I am defining the decision variables. Since number of magazine ads has a constraint, I am defining that in the variable definition itself as a range constraint."
      ]
    },
    {
      "cell_type": "code",
      "metadata": {
        "id": "sQDsJeMLTuPi",
        "colab_type": "code",
        "colab": {}
      },
      "source": [
        "medium1 = solver.NumVar(0, 5, 'medium1')\n",
        "medium2 = solver.NumVar(0, solver.infinity(),'medium2')\n",
        "medium3 = solver.NumVar(0, solver.infinity(),'medium3')"
      ],
      "execution_count": 0,
      "outputs": []
    },
    {
      "cell_type": "markdown",
      "metadata": {
        "id": "j8ZE9GNQbQG_",
        "colab_type": "text"
      },
      "source": [
        "I am defining the constraints."
      ]
    },
    {
      "cell_type": "code",
      "metadata": {
        "id": "g0MVLBGEU6D3",
        "colab_type": "code",
        "colab": {}
      },
      "source": [
        "# constraint 1>> 30000*tv + 15000*food + 10000*sunday <= 400000\n",
        "constraint1 = solver.Constraint(-solver.infinity(), 400000)\n",
        "constraint1.SetCoefficient(medium1, 30000)\n",
        "constraint1.SetCoefficient(medium2, 15000)\n",
        "constraint1.SetCoefficient(medium3, 10000)\n",
        "\n",
        "# constraint 2>> 9000*tv + 3000*food + 4000*sunday <= 100000\n",
        "constraint1 = solver.Constraint(-solver.infinity(), 100000)\n",
        "constraint1.SetCoefficient(medium1, 9000)\n",
        "constraint1.SetCoefficient(medium2, 3000)\n",
        "constraint1.SetCoefficient(medium3, 4000)"
      ],
      "execution_count": 0,
      "outputs": []
    },
    {
      "cell_type": "markdown",
      "metadata": {
        "id": "cSwxGrGybTEI",
        "colab_type": "text"
      },
      "source": [
        "I am defining the objective function. This should be maximized to solve the problem."
      ]
    },
    {
      "cell_type": "code",
      "metadata": {
        "id": "h2JLfyA_Wd7z",
        "colab_type": "code",
        "colab": {}
      },
      "source": [
        "# objective function>> max{130000*medium1 + 60000*medium2 + 50000*medium3}\n",
        "obj = solver.Objective()\n",
        "obj.SetCoefficient(medium1, 130000)\n",
        "obj.SetCoefficient(medium2, 60000)\n",
        "obj.SetCoefficient(medium3, 50000)\n",
        "obj.SetMaximization()"
      ],
      "execution_count": 0,
      "outputs": []
    },
    {
      "cell_type": "code",
      "metadata": {
        "id": "b_j-vdCDXNbz",
        "colab_type": "code",
        "outputId": "3ead8dff-0e3d-4fae-bcb4-2be5abadd7da",
        "colab": {
          "base_uri": "https://localhost:8080/",
          "height": 102
        }
      },
      "source": [
        "solver.Solve()\n",
        "opt_solution = 130000 * medium1.solution_value() + 60000 * medium2.solution_value() + 50000 * medium3.solution_value()\n",
        "\n",
        "print(\"Solution: \\nNumber of Magazine Ads = %d\\nNumber of Ads in Sunday Magazines = %d\\nNumber of Classified Ads = %d\" % (medium1.solution_value(), medium2.solution_value(), medium3.solution_value()))\n",
        "print(\"Maximum Exposure for Above Number of Ads: %d\" % opt_solution)"
      ],
      "execution_count": 5,
      "outputs": [
        {
          "output_type": "stream",
          "text": [
            "Solution: \n",
            "Number of Magazine Ads = 0\n",
            "Number of Ads in Sunday Magazines = 19\n",
            "Number of Classified Ads = 10\n",
            "Maximum Exposure for Above Number of Ads: 1699999\n"
          ],
          "name": "stdout"
        }
      ]
    }
  ]
}